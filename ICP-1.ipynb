{
 "cells": [
  {
   "cell_type": "code",
   "execution_count": 1,
   "id": "552254b5-1b5c-41bf-913b-035a78d35bf2",
   "metadata": {},
   "outputs": [
    {
     "name": "stdin",
     "output_type": "stream",
     "text": [
      "Enter the string Srikanth\n"
     ]
    },
    {
     "name": "stdout",
     "output_type": "stream",
     "text": [
      "tnakir\n"
     ]
    }
   ],
   "source": [
    "s = list(input(\"Enter the string\"))\n",
    "del s[-1]\n",
    "del s[0]\n",
    "s.reverse()\n",
    "print(\"\".join(s))\n"
   ]
  },
  {
   "cell_type": "code",
   "execution_count": 2,
   "id": "cc943b07-b64d-4075-b811-0f57a044263e",
   "metadata": {},
   "outputs": [
    {
     "name": "stdout",
     "output_type": "stream",
     "text": [
      "18\n",
      "6\n",
      "72\n",
      "2.0\n"
     ]
    }
   ],
   "source": [
    "x = 12\n",
    "y = 6\n",
    "print(x+y)\n",
    "print(x-y)\n",
    "print(x*y)\n",
    "print(x/y)"
   ]
  },
  {
   "cell_type": "code",
   "execution_count": 3,
   "id": "d51bd552-b383-4dbf-ad0b-f6d5690bb057",
   "metadata": {},
   "outputs": [
    {
     "name": "stdin",
     "output_type": "stream",
     "text": [
      "Enter the sentecnce: Python is intersesting\n"
     ]
    },
    {
     "name": "stdout",
     "output_type": "stream",
     "text": [
      "Python is intersesting\n"
     ]
    }
   ],
   "source": [
    "s = input(\"Enter the sentecnce:\")\n",
    "s = s.replace(\"python\",\"pythons\")\n",
    "print(s)"
   ]
  },
  {
   "cell_type": "code",
   "execution_count": 1,
   "id": "03a03cda-9ae3-494a-b678-9e1e1511b06f",
   "metadata": {},
   "outputs": [
    {
     "name": "stdin",
     "output_type": "stream",
     "text": [
      "Enter the percentage: 75\n"
     ]
    },
    {
     "name": "stdout",
     "output_type": "stream",
     "text": [
      "Your grade is 'C'\n"
     ]
    }
   ],
   "source": [
    "s = float(input(\"Enter the percentage:\"))\n",
    "if s>=90:\n",
    "    print(\"Your grade is 'A'\")\n",
    "elif s>=80:\n",
    "    print(\"Your grade is 'B'\")\n",
    "elif s>=70:\n",
    "    print(\"Your grade is 'C'\")\n",
    "elif s>=60:\n",
    "    print(\"Your grade is 'D'\")\n",
    "else:\n",
    "    print(\"Your grade is 'F'\")\n"
   ]
  },
  {
   "cell_type": "code",
   "execution_count": null,
   "id": "914c75b8-2812-45ca-b84b-bf0acec3e55f",
   "metadata": {},
   "outputs": [],
   "source": []
  }
 ],
 "metadata": {
  "kernelspec": {
   "display_name": "Python 3 (ipykernel)",
   "language": "python",
   "name": "python3"
  },
  "language_info": {
   "codemirror_mode": {
    "name": "ipython",
    "version": 3
   },
   "file_extension": ".py",
   "mimetype": "text/x-python",
   "name": "python",
   "nbconvert_exporter": "python",
   "pygments_lexer": "ipython3",
   "version": "3.12.1"
  }
 },
 "nbformat": 4,
 "nbformat_minor": 5
}
